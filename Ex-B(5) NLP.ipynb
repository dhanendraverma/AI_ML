{
 "cells": [
  {
   "cell_type": "code",
   "execution_count": 30,
   "metadata": {},
   "outputs": [],
   "source": [
    "import re\n",
    "senti_dict={}\n",
    "lline=[]"
   ]
  },
  {
   "cell_type": "code",
   "execution_count": 31,
   "metadata": {},
   "outputs": [
    {
     "name": "stdout",
     "output_type": "stream",
     "text": [
      "['neg_words', 'hate', 'hatred', 'annoyed', 'annoy', 'annoyingly', 'nasty']\n",
      "['pos_words', 'nice', 'excellent', 'good', 'wonderful', 'best', 'better', 'awesome', 'beautiful', 'beauty', 'beautifully', 'supreme']\n",
      "{'hate': 0, 'hatred': -1, 'annoyed': -2, 'annoy': -3, 'annoyingly': -4, 'nasty': -5, 'nice': 0, 'excellent': 1, 'good': 2, 'wonderful': 3, 'best': 4, 'better': 5, 'awesome': 6, 'beautiful': 7, 'beauty': 8, 'beautifully': 9, 'supreme': 10}\n"
     ]
    }
   ],
   "source": [
    "for line in open(r'C:\\Users\\CG-DTE\\Downloads\\NLPdataEx5dict.txt'):\n",
    "    value=1\n",
    "    nstr=re.sub(r'[\"\\n]','',line) \n",
    "    nstr=nstr.replace('=',',')\n",
    "    nstr=nstr.replace('[.]','')\n",
    "    nstr=nstr.replace('[','')\n",
    "    nstr=nstr.replace(']','')\n",
    "    li=list(nstr.split(','))\n",
    "    print(li)\n",
    "    value = 0\n",
    "    if li[0]=='neg_words':\n",
    "        for i in li[1:]:\n",
    "            senti_dict[i]=-(value)\n",
    "            value=value+1\n",
    "    elif li[0]=='pos_words':\n",
    "        for j in li[1:]:\n",
    "            senti_dict[j]=value\n",
    "            value=value+1\n",
    "print(senti_dict)"
   ]
  },
  {
   "cell_type": "code",
   "execution_count": 32,
   "metadata": {},
   "outputs": [
    {
     "name": "stdout",
     "output_type": "stream",
     "text": [
      "Positive Sentiment\n",
      "Negative Sentiment\n",
      "Positive Sentiment\n",
      "Positive Sentiment\n",
      "Negative Sentiment\n",
      "Positive Sentiment\n",
      "Negative Sentiment\n",
      "Negative Sentiment\n",
      "Negative Sentiment\n",
      "Positive Sentiment\n",
      "Positive Sentiment\n"
     ]
    }
   ],
   "source": [
    "for line in open(r'C:\\Users\\CG-DTE\\Downloads\\NLPdataEx5data_senti_analyze.txt'):\n",
    "    s=re.sub('[.,?]','',line)\n",
    "    l=s.lower().split()\n",
    "    ans =0\n",
    "    for i in l:\n",
    "        ans+=senti_dict.get(i,0)\n",
    "    if ans>0:\n",
    "        print(\"Positive Sentiment\")\n",
    "    else:\n",
    "        print(\"Negative Sentiment\")    \n",
    "    "
   ]
  },
  {
   "cell_type": "code",
   "execution_count": null,
   "metadata": {},
   "outputs": [],
   "source": []
  }
 ],
 "metadata": {
  "kernelspec": {
   "display_name": "Python 3",
   "language": "python",
   "name": "python3"
  },
  "language_info": {
   "codemirror_mode": {
    "name": "ipython",
    "version": 3
   },
   "file_extension": ".py",
   "mimetype": "text/x-python",
   "name": "python",
   "nbconvert_exporter": "python",
   "pygments_lexer": "ipython3",
   "version": "3.7.1"
  }
 },
 "nbformat": 4,
 "nbformat_minor": 2
}
