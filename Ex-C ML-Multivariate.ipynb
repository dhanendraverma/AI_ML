{
 "cells": [
  {
   "cell_type": "code",
   "execution_count": 2,
   "metadata": {},
   "outputs": [],
   "source": [
    "import numpy as np\n",
    "import pandas as pd\n",
    "from sklearn import linear_model\n",
    "from sklearn.model_selection import train_test_split"
   ]
  },
  {
   "cell_type": "code",
   "execution_count": 4,
   "metadata": {},
   "outputs": [],
   "source": [
    "carmpg = pd.read_excel(r\"C:\\Users\\CG-DTE\\Desktop\\Copy of auto.xls\")"
   ]
  },
  {
   "cell_type": "code",
   "execution_count": 5,
   "metadata": {},
   "outputs": [
    {
     "data": {
      "text/html": [
       "<div>\n",
       "<style scoped>\n",
       "    .dataframe tbody tr th:only-of-type {\n",
       "        vertical-align: middle;\n",
       "    }\n",
       "\n",
       "    .dataframe tbody tr th {\n",
       "        vertical-align: top;\n",
       "    }\n",
       "\n",
       "    .dataframe thead th {\n",
       "        text-align: right;\n",
       "    }\n",
       "</style>\n",
       "<table border=\"1\" class=\"dataframe\">\n",
       "  <thead>\n",
       "    <tr style=\"text-align: right;\">\n",
       "      <th></th>\n",
       "      <th>mpg</th>\n",
       "      <th>cylinder</th>\n",
       "      <th>displacement</th>\n",
       "      <th>horsepower</th>\n",
       "      <th>weight</th>\n",
       "      <th>acceleration</th>\n",
       "      <th>model year</th>\n",
       "      <th>origin</th>\n",
       "      <th>car name</th>\n",
       "    </tr>\n",
       "  </thead>\n",
       "  <tbody>\n",
       "    <tr>\n",
       "      <th>0</th>\n",
       "      <td>18.0</td>\n",
       "      <td>8</td>\n",
       "      <td>307.0</td>\n",
       "      <td>130</td>\n",
       "      <td>3504</td>\n",
       "      <td>12.0</td>\n",
       "      <td>70</td>\n",
       "      <td>1</td>\n",
       "      <td>chevrolet chevelle malibu</td>\n",
       "    </tr>\n",
       "    <tr>\n",
       "      <th>1</th>\n",
       "      <td>15.0</td>\n",
       "      <td>8</td>\n",
       "      <td>350.0</td>\n",
       "      <td>165</td>\n",
       "      <td>3693</td>\n",
       "      <td>11.5</td>\n",
       "      <td>70</td>\n",
       "      <td>1</td>\n",
       "      <td>buick skylark 320</td>\n",
       "    </tr>\n",
       "    <tr>\n",
       "      <th>2</th>\n",
       "      <td>18.0</td>\n",
       "      <td>8</td>\n",
       "      <td>318.0</td>\n",
       "      <td>150</td>\n",
       "      <td>3436</td>\n",
       "      <td>11.0</td>\n",
       "      <td>70</td>\n",
       "      <td>1</td>\n",
       "      <td>plymouth satellite</td>\n",
       "    </tr>\n",
       "    <tr>\n",
       "      <th>3</th>\n",
       "      <td>16.0</td>\n",
       "      <td>8</td>\n",
       "      <td>304.0</td>\n",
       "      <td>150</td>\n",
       "      <td>3433</td>\n",
       "      <td>12.0</td>\n",
       "      <td>70</td>\n",
       "      <td>1</td>\n",
       "      <td>amc rebel sst</td>\n",
       "    </tr>\n",
       "    <tr>\n",
       "      <th>4</th>\n",
       "      <td>17.0</td>\n",
       "      <td>8</td>\n",
       "      <td>302.0</td>\n",
       "      <td>140</td>\n",
       "      <td>3449</td>\n",
       "      <td>10.5</td>\n",
       "      <td>70</td>\n",
       "      <td>1</td>\n",
       "      <td>ford torino</td>\n",
       "    </tr>\n",
       "  </tbody>\n",
       "</table>\n",
       "</div>"
      ],
      "text/plain": [
       "    mpg  cylinder  displacement horsepower  weight  acceleration  model year  \\\n",
       "0  18.0         8         307.0        130    3504          12.0          70   \n",
       "1  15.0         8         350.0        165    3693          11.5          70   \n",
       "2  18.0         8         318.0        150    3436          11.0          70   \n",
       "3  16.0         8         304.0        150    3433          12.0          70   \n",
       "4  17.0         8         302.0        140    3449          10.5          70   \n",
       "\n",
       "   origin                   car name  \n",
       "0       1  chevrolet chevelle malibu  \n",
       "1       1          buick skylark 320  \n",
       "2       1         plymouth satellite  \n",
       "3       1              amc rebel sst  \n",
       "4       1                ford torino  "
      ]
     },
     "execution_count": 5,
     "metadata": {},
     "output_type": "execute_result"
    }
   ],
   "source": [
    "carmpg.head()"
   ]
  },
  {
   "cell_type": "code",
   "execution_count": 6,
   "metadata": {},
   "outputs": [
    {
     "data": {
      "text/html": [
       "<div>\n",
       "<style scoped>\n",
       "    .dataframe tbody tr th:only-of-type {\n",
       "        vertical-align: middle;\n",
       "    }\n",
       "\n",
       "    .dataframe tbody tr th {\n",
       "        vertical-align: top;\n",
       "    }\n",
       "\n",
       "    .dataframe thead th {\n",
       "        text-align: right;\n",
       "    }\n",
       "</style>\n",
       "<table border=\"1\" class=\"dataframe\">\n",
       "  <thead>\n",
       "    <tr style=\"text-align: right;\">\n",
       "      <th></th>\n",
       "      <th>mpg</th>\n",
       "      <th>acceleration</th>\n",
       "    </tr>\n",
       "  </thead>\n",
       "  <tbody>\n",
       "    <tr>\n",
       "      <th>0</th>\n",
       "      <td>18.0</td>\n",
       "      <td>12.0</td>\n",
       "    </tr>\n",
       "    <tr>\n",
       "      <th>1</th>\n",
       "      <td>15.0</td>\n",
       "      <td>11.5</td>\n",
       "    </tr>\n",
       "    <tr>\n",
       "      <th>2</th>\n",
       "      <td>18.0</td>\n",
       "      <td>11.0</td>\n",
       "    </tr>\n",
       "    <tr>\n",
       "      <th>3</th>\n",
       "      <td>16.0</td>\n",
       "      <td>12.0</td>\n",
       "    </tr>\n",
       "    <tr>\n",
       "      <th>4</th>\n",
       "      <td>17.0</td>\n",
       "      <td>10.5</td>\n",
       "    </tr>\n",
       "  </tbody>\n",
       "</table>\n",
       "</div>"
      ],
      "text/plain": [
       "    mpg  acceleration\n",
       "0  18.0          12.0\n",
       "1  15.0          11.5\n",
       "2  18.0          11.0\n",
       "3  16.0          12.0\n",
       "4  17.0          10.5"
      ]
     },
     "execution_count": 6,
     "metadata": {},
     "output_type": "execute_result"
    }
   ],
   "source": [
    "carmodel=pd.DataFrame(carmpg,columns=['mpg','acceleration'])\n",
    "carmodel.head()"
   ]
  },
  {
   "cell_type": "code",
   "execution_count": 35,
   "metadata": {},
   "outputs": [],
   "source": [
    "def compute_residual_error(c,m,points):\n",
    "    totalerror=0\n",
    "    for i in range(0,len(points)):\n",
    "        x=points[i,2]\n",
    "        y=points[i,1]\n",
    "        totalerror += (y-(m*x+c)**2)\n",
    "        return totalerror/float(len(points))"
   ]
  },
  {
   "cell_type": "code",
   "execution_count": 36,
   "metadata": {},
   "outputs": [],
   "source": [
    "def slope_of_descent(c_curr,m_curr,points,learning_rate):\n",
    "    c_gradient=0\n",
    "    m_gradient=0\n",
    "    n=float(len(points))\n",
    "    for i in range(0,len(points)):\n",
    "        x = points[i,2]\n",
    "        y = points[i,1]\n",
    "        m_gradient += -(2/n)*(y-((m_curr*x)+c_curr))*x\n",
    "        c_gradient += -(2/n)*(y-((m_curr*x)+c_curr))\n",
    "        m_new = m_curr-(learning_rate * m_gradient)\n",
    "        c_new = c_curr-(learning_rate * c_gradient)\n",
    "    return(c_new,m_new)"
   ]
  },
  {
   "cell_type": "code",
   "execution_count": 37,
   "metadata": {},
   "outputs": [],
   "source": [
    "def iteration(points,m_start,c_start,learning_rt,num_iterations):\n",
    "    m=m_start\n",
    "    c=c_start\n",
    "    for i in range(num_iterations):\n",
    "        c,m=slope_of_descent(c,m,points,learning_rt)\n",
    "    return[c,m]"
   ]
  },
  {
   "cell_type": "code",
   "execution_count": 38,
   "metadata": {},
   "outputs": [],
   "source": [
    "points=carmodel\n",
    "points=points.reset_index().values"
   ]
  },
  {
   "cell_type": "code",
   "execution_count": 39,
   "metadata": {},
   "outputs": [
    {
     "data": {
      "text/plain": [
       "array([[  0. ,  18. ,  12. ],\n",
       "       [  1. ,  15. ,  11.5],\n",
       "       [  2. ,  18. ,  11. ],\n",
       "       ...,\n",
       "       [395. ,  32. ,  11.6],\n",
       "       [396. ,  28. ,  18.6],\n",
       "       [397. ,  31. ,  19.4]])"
      ]
     },
     "execution_count": 39,
     "metadata": {},
     "output_type": "execute_result"
    }
   ],
   "source": [
    "points"
   ]
  },
  {
   "cell_type": "code",
   "execution_count": 109,
   "metadata": {},
   "outputs": [],
   "source": [
    "c_initial=0\n",
    "m_initial=0\n",
    "num_iterations=1000\n",
    "learning_rate= 0.0001"
   ]
  },
  {
   "cell_type": "code",
   "execution_count": 110,
   "metadata": {},
   "outputs": [],
   "source": [
    "[c,m] = iteration(points,m_initial,c_initial,learning_rate,num_iterations)"
   ]
  },
  {
   "cell_type": "code",
   "execution_count": 111,
   "metadata": {},
   "outputs": [
    {
     "name": "stdout",
     "output_type": "stream",
     "text": [
      "after 1000 iteration m=1.4931509862180814,c=0.12252253313266287 and mse=-0.7724966434678613\n"
     ]
    }
   ],
   "source": [
    "print('after {0} iteration m={1},c={2} and mse={3}'.format(num_iterations,m,c,compute_residual_error(c,m,points)))"
   ]
  },
  {
   "cell_type": "code",
   "execution_count": 112,
   "metadata": {},
   "outputs": [],
   "source": [
    "import matplotlib.pyplot as plt\n",
    "%matplotlib inline"
   ]
  },
  {
   "cell_type": "code",
   "execution_count": 113,
   "metadata": {},
   "outputs": [
    {
     "data": {
      "image/png": "[encoded data removed]",
      "text/plain": [
       "<Figure size 432x288 with 1 Axes>"
      ]
     },
     "metadata": {
      "needs_background": "light"
     },
     "output_type": "display_data"
    }
   ],
   "source": [
    "for i in range(0,len(points)):\n",
    "    x=points[i,2]\n",
    "    y=points[i,1]\n",
    "    plt.scatter(x,y,color='red')\n",
    "    plt.plot(carmodel.acceleration,((1.4931509862180814 * carmodel.acceleration)+0.12152253313266287),color='blue',linewidth=3)"
   ]
  },
  {
   "cell_type": "code",
   "execution_count": null,
   "metadata": {},
   "outputs": [],
   "source": [
    "#Using trial and error method to find best fit curve"
   ]
  },
  {
   "cell_type": "code",
   "execution_count": 119,
   "metadata": {},
   "outputs": [
    {
     "name": "stdout",
     "output_type": "stream",
     "text": [
      "after 10 iteration m=-1641299.336389371,c=-102239.88513617746 and mse=-984809419105.9463\n"
     ]
    }
   ],
   "source": [
    "c_initial=0\n",
    "m_initial=0\n",
    "num_iterations=10\n",
    "learning_rate= 0.01\n",
    "[c,m] = iteration(points,m_initial,c_initial,learning_rate,num_iterations)\n",
    "print('after {0} iteration m={1},c={2} and mse={3}'.format(num_iterations,m,c,compute_residual_error(c,m,points)))"
   ]
  },
  {
   "cell_type": "code",
   "execution_count": 120,
   "metadata": {},
   "outputs": [
    {
     "name": "stdout",
     "output_type": "stream",
     "text": [
      "after 10 iteration m=1.493391518084555,c=0.09598565706455763 and mse=-0.770354014619362\n"
     ]
    }
   ],
   "source": [
    "c_initial=0\n",
    "m_initial=0\n",
    "num_iterations=10\n",
    "learning_rate= 0.001\n",
    "[c,m] = iteration(points,m_initial,c_initial,learning_rate,num_iterations)\n",
    "print('after {0} iteration m={1},c={2} and mse={3}'.format(num_iterations,m,c,compute_residual_error(c,m,points)))"
   ]
  },
  {
   "cell_type": "code",
   "execution_count": 121,
   "metadata": {},
   "outputs": [
    {
     "name": "stdout",
     "output_type": "stream",
     "text": [
      "after 10 iteration m=0.6015967061452706,c=0.03777069231350141 and mse=-0.0870930903238336\n"
     ]
    }
   ],
   "source": [
    "c_initial=0\n",
    "m_initial=0\n",
    "num_iterations=10\n",
    "learning_rate= 0.0001\n",
    "[c,m] = iteration(points,m_initial,c_initial,learning_rate,num_iterations)\n",
    "print('after {0} iteration m={1},c={2} and mse={3}'.format(num_iterations,m,c,compute_residual_error(c,m,points)))"
   ]
  },
  {
   "cell_type": "code",
   "execution_count": 122,
   "metadata": {},
   "outputs": [
    {
     "name": "stdout",
     "output_type": "stream",
     "text": [
      "after 10 iteration m=0.07335083970377877,c=0.004598775035803989 and mse=0.04325907863402163\n"
     ]
    }
   ],
   "source": [
    "c_initial=0\n",
    "m_initial=0\n",
    "num_iterations=10\n",
    "learning_rate= 0.00001\n",
    "[c,m] = iteration(points,m_initial,c_initial,learning_rate,num_iterations)\n",
    "print('after {0} iteration m={1},c={2} and mse={3}'.format(num_iterations,m,c,compute_residual_error(c,m,points)))"
   ]
  },
  {
   "cell_type": "code",
   "execution_count": 127,
   "metadata": {},
   "outputs": [],
   "source": [
    "#At this point error value of m is increasing hence learning rate of value 0.0001 is best suited for model\n",
    "#Now increasing the number of iterations"
   ]
  },
  {
   "cell_type": "code",
   "execution_count": 128,
   "metadata": {},
   "outputs": [
    {
     "name": "stdout",
     "output_type": "stream",
     "text": [
      "after 100 iteration m=1.4861174542360969,c=0.09553246015942536 and mse=-0.762429542833534\n"
     ]
    }
   ],
   "source": [
    "c_initial=0\n",
    "m_initial=0\n",
    "num_iterations=100\n",
    "learning_rate= 0.0001\n",
    "[c,m] = iteration(points,m_initial,c_initial,learning_rate,num_iterations)\n",
    "print('after {0} iteration m={1},c={2} and mse={3}'.format(num_iterations,m,c,compute_residual_error(c,m,points)))"
   ]
  },
  {
   "cell_type": "code",
   "execution_count": 129,
   "metadata": {},
   "outputs": [
    {
     "name": "stdout",
     "output_type": "stream",
     "text": [
      "after 1000 iteration m=1.4931509862180814,c=0.12252253313266287 and mse=-0.7724966434678613\n"
     ]
    }
   ],
   "source": [
    "c_initial=0\n",
    "m_initial=0\n",
    "num_iterations=1000\n",
    "learning_rate= 0.0001\n",
    "[c,m] = iteration(points,m_initial,c_initial,learning_rate,num_iterations)\n",
    "print('after {0} iteration m={1},c={2} and mse={3}'.format(num_iterations,m,c,compute_residual_error(c,m,points)))"
   ]
  },
  {
   "cell_type": "code",
   "execution_count": 130,
   "metadata": {},
   "outputs": [
    {
     "name": "stdout",
     "output_type": "stream",
     "text": [
      "after 10000 iteration m=1.477159018865183,c=0.37924815239954296 and mse=-0.7783836369350279\n"
     ]
    }
   ],
   "source": [
    "c_initial=0\n",
    "m_initial=0\n",
    "num_iterations=10000\n",
    "learning_rate= 0.0001\n",
    "[c,m] = iteration(points,m_initial,c_initial,learning_rate,num_iterations)\n",
    "print('after {0} iteration m={1},c={2} and mse={3}'.format(num_iterations,m,c,compute_residual_error(c,m,points)))"
   ]
  },
  {
   "cell_type": "code",
   "execution_count": 131,
   "metadata": {},
   "outputs": [
    {
     "name": "stdout",
     "output_type": "stream",
     "text": [
      "after 100000 iteration m=1.3571505089500588,c=2.3057940454332426 and mse=-0.8232351664393349\n"
     ]
    }
   ],
   "source": [
    "c_initial=0\n",
    "m_initial=0\n",
    "num_iterations=100000\n",
    "learning_rate= 0.0001\n",
    "[c,m] = iteration(points,m_initial,c_initial,learning_rate,num_iterations)\n",
    "print('after {0} iteration m={1},c={2} and mse={3}'.format(num_iterations,m,c,compute_residual_error(c,m,points)))"
   ]
  },
  {
   "cell_type": "code",
   "execution_count": 132,
   "metadata": {},
   "outputs": [
    {
     "name": "stdout",
     "output_type": "stream",
     "text": [
      "after 1000000 iteration m=1.1919234234059468,c=4.958252302752389 and mse=-0.8869320696359265\n"
     ]
    }
   ],
   "source": [
    "c_initial=0\n",
    "m_initial=0\n",
    "num_iterations=1000000\n",
    "learning_rate= 0.0001\n",
    "[c,m] = iteration(points,m_initial,c_initial,learning_rate,num_iterations)\n",
    "print('after {0} iteration m={1},c={2} and mse={3}'.format(num_iterations,m,c,compute_residual_error(c,m,points)))"
   ]
  },
  {
   "cell_type": "code",
   "execution_count": null,
   "metadata": {},
   "outputs": [],
   "source": [
    "#here value is increasing hence we stopped the anticipation here sice value of 100000 would be inefficient for large data set\n",
    "#hence optimum value for iterations can be set to 10000"
   ]
  }
 ],
 "metadata": {
  "kernelspec": {
   "display_name": "Python 3",
   "language": "python",
   "name": "python3"
  },
  "language_info": {
   "codemirror_mode": {
    "name": "ipython",
    "version": 3
   },
   "file_extension": ".py",
   "mimetype": "text/x-python",
   "name": "python",
   "nbconvert_exporter": "python",
   "pygments_lexer": "ipython3",
   "version": "3.7.1"
  }
 },
 "nbformat": 4,
 "nbformat_minor": 2
}
