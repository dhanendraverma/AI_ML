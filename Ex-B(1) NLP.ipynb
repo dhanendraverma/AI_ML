{
 "cells": [
  {
   "cell_type": "code",
   "execution_count": 2,
   "metadata": {},
   "outputs": [],
   "source": [
    "import pandas as pd\n",
    "import numpy as np\n",
    "from nltk.tokenize import sent_tokenize\n",
    "from nltk.chunk import ne_chunk\n",
    "from nltk.tag import pos_tag"
   ]
  },
  {
   "cell_type": "code",
   "execution_count": 4,
   "metadata": {},
   "outputs": [
    {
     "name": "stdout",
     "output_type": "stream",
     "text": [
      "                                             Comment\n",
      "0  \"Hello there, how are you? Weather is awesome....\n",
      "1  \"Hello Mr. Raja, how are you? Weather is aweso...\n",
      "2  \"Hello Mr. Raja, how are you. Weather is bad. ...\n",
      "3  \"NLP is great technique. It is nice to learn t...\n",
      "4  \"AI is making difference in this world now.  I...\n"
     ]
    }
   ],
   "source": [
    "df = pd.read_csv(r\"C:\\Users\\CG-DTE\\Downloads\\data.csv\")\n",
    "print(df)"
   ]
  },
  {
   "cell_type": "code",
   "execution_count": 5,
   "metadata": {},
   "outputs": [
    {
     "name": "stdout",
     "output_type": "stream",
     "text": [
      "['\"Hello there, how are you?', 'Weather is awesome.', 'Its raining here now.\"']\n",
      "(S\n",
      "  \"Hello there, how are you?/JJ\n",
      "  Weather is awesome./NNP\n",
      "  Its raining here now.\"/NNP)\n",
      "['\"Hello Mr. Raja, how are you?', 'Weather is awesome.', 'Its raining here now.\"']\n",
      "(S\n",
      "  \"Hello Mr. Raja, how are you?/JJ\n",
      "  Weather is awesome./NNP\n",
      "  Its raining here now.\"/NNP)\n",
      "['\"Hello Mr. Raja, how are you.', 'Weather is bad.', 'Its heavily raining here now.\"']\n",
      "(S\n",
      "  \"Hello Mr. Raja, how are you./JJ\n",
      "  Weather is bad./NNP\n",
      "  Its heavily raining here now.\"/NNP)\n",
      "['\"NLP is great technique.', 'It is nice to learn this technique.\"']\n",
      "(S\n",
      "  \"NLP is great technique./NN\n",
      "  It is nice to learn this technique.\"/NNP)\n",
      "['\"AI is making difference in this world now.', 'It would be helpful for betterment of human life.', 'We need to make advantage of that.\"']\n",
      "(S\n",
      "  \"AI is making difference in this world now./JJ\n",
      "  It would be helpful for betterment of human life./NNP\n",
      "  We need to make advantage of that.\"/NNP)\n"
     ]
    }
   ],
   "source": [
    "my_df  = pd.DataFrame(columns = ['output'])\n",
    "for i in df['Comment']:\n",
    "    print(sent_tokenize(i))\n",
    "    temp_df = pd.DataFrame(sent_tokenize(i),columns = ['output'])\n",
    "    my_df = my_df.append(temp_df, ignore_index=True)\n",
    "    chunk_sentence=ne_chunk(pos_tag(sent_tokenize(i)))\n",
    "    print(chunk_sentence)"
   ]
  },
  {
   "cell_type": "code",
   "execution_count": 6,
   "metadata": {},
   "outputs": [
    {
     "name": "stdout",
     "output_type": "stream",
     "text": [
      "                                               output\n",
      "0                          \"Hello there, how are you?\n",
      "1                                 Weather is awesome.\n",
      "2                              Its raining here now.\"\n",
      "3                       \"Hello Mr. Raja, how are you?\n",
      "4                                 Weather is awesome.\n",
      "5                              Its raining here now.\"\n",
      "6                       \"Hello Mr. Raja, how are you.\n",
      "7                                     Weather is bad.\n",
      "8                      Its heavily raining here now.\"\n",
      "9                            \"NLP is great technique.\n",
      "10               It is nice to learn this technique.\"\n",
      "11        \"AI is making difference in this world now.\n",
      "12  It would be helpful for betterment of human life.\n",
      "13                We need to make advantage of that.\"\n"
     ]
    }
   ],
   "source": [
    "print(my_df)"
   ]
  },
  {
   "cell_type": "code",
   "execution_count": 7,
   "metadata": {},
   "outputs": [],
   "source": [
    "my_df.to_csv(r\"C:\\Users\\CG-DTE\\Downloads\\data_out.csv\")"
   ]
  },
  {
   "cell_type": "code",
   "execution_count": 8,
   "metadata": {},
   "outputs": [],
   "source": [
    "df_out = pd.read_csv(r\"C:\\Users\\CG-DTE\\Downloads\\data_out.csv\")"
   ]
  },
  {
   "cell_type": "code",
   "execution_count": 9,
   "metadata": {},
   "outputs": [
    {
     "name": "stdout",
     "output_type": "stream",
     "text": [
      "    Unnamed: 0                                             output\n",
      "0            0                         \"Hello there, how are you?\n",
      "1            1                                Weather is awesome.\n",
      "2            2                             Its raining here now.\"\n",
      "3            3                      \"Hello Mr. Raja, how are you?\n",
      "4            4                                Weather is awesome.\n",
      "5            5                             Its raining here now.\"\n",
      "6            6                      \"Hello Mr. Raja, how are you.\n",
      "7            7                                    Weather is bad.\n",
      "8            8                     Its heavily raining here now.\"\n",
      "9            9                           \"NLP is great technique.\n",
      "10          10               It is nice to learn this technique.\"\n",
      "11          11        \"AI is making difference in this world now.\n",
      "12          12  It would be helpful for betterment of human life.\n",
      "13          13                We need to make advantage of that.\"\n"
     ]
    }
   ],
   "source": [
    "print(df_out)"
   ]
  },
  {
   "cell_type": "code",
   "execution_count": null,
   "metadata": {},
   "outputs": [],
   "source": []
  }
 ],
 "metadata": {
  "kernelspec": {
   "display_name": "Python 3",
   "language": "python",
   "name": "python3"
  },
  "language_info": {
   "codemirror_mode": {
    "name": "ipython",
    "version": 3
   },
   "file_extension": ".py",
   "mimetype": "text/x-python",
   "name": "python",
   "nbconvert_exporter": "python",
   "pygments_lexer": "ipython3",
   "version": "3.7.1"
  }
 },
 "nbformat": 4,
 "nbformat_minor": 2
}
