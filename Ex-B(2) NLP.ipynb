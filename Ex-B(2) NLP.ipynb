{
 "cells": [
  {
   "cell_type": "code",
   "execution_count": 1,
   "metadata": {},
   "outputs": [],
   "source": [
    "import pandas as pd\n",
    "import numpy as np\n",
    "from nltk.tokenize import word_tokenize"
   ]
  },
  {
   "cell_type": "code",
   "execution_count": 3,
   "metadata": {},
   "outputs": [
    {
     "name": "stdout",
     "output_type": "stream",
     "text": [
      "                                             Comment\n",
      "0  \"Hello there, how are you? Weather is awesome....\n",
      "1  \"Hello Mr. Raja, how are you? Weather is aweso...\n",
      "2  \"Hello Mr. Raja, how are you. Weather is bad. ...\n",
      "3  \"NLP is great technique. It is nice to learn t...\n",
      "4  \"AI is making difference in this world now.  I...\n"
     ]
    }
   ],
   "source": [
    "df = pd.read_csv(r\"C:\\Users\\CG-DTE\\Downloads\\data.csv\")\n",
    "print(df)"
   ]
  },
  {
   "cell_type": "code",
   "execution_count": 4,
   "metadata": {},
   "outputs": [
    {
     "name": "stdout",
     "output_type": "stream",
     "text": [
      "['``', 'Hello', 'there', ',', 'how', 'are', 'you', '?', 'Weather', 'is', 'awesome', '.', 'Its', 'raining', 'here', 'now', '.', \"''\"]\n",
      "['``', 'Hello', 'Mr.', 'Raja', ',', 'how', 'are', 'you', '?', 'Weather', 'is', 'awesome', '.', 'Its', 'raining', 'here', 'now', '.', \"''\"]\n",
      "['``', 'Hello', 'Mr.', 'Raja', ',', 'how', 'are', 'you', '.', 'Weather', 'is', 'bad', '.', 'Its', 'heavily', 'raining', 'here', 'now', '.', \"''\"]\n",
      "['``', 'NLP', 'is', 'great', 'technique', '.', 'It', 'is', 'nice', 'to', 'learn', 'this', 'technique', '.', \"''\"]\n",
      "['``', 'AI', 'is', 'making', 'difference', 'in', 'this', 'world', 'now', '.', 'It', 'would', 'be', 'helpful', 'for', 'betterment', 'of', 'human', 'life', '.', 'We', 'need', 'to', 'make', 'advantage', 'of', 'that', '.', \"''\"]\n"
     ]
    }
   ],
   "source": [
    "out_df  = pd.DataFrame(columns = ['output'])\n",
    "for i in df['Comment']:\n",
    "    print(word_tokenize(i))\n",
    "    temp_df = pd.DataFrame(word_tokenize(i),columns = ['output'])\n",
    "    out_df = out_df.append(temp_df, ignore_index=True)"
   ]
  },
  {
   "cell_type": "code",
   "execution_count": 5,
   "metadata": {},
   "outputs": [
    {
     "name": "stdout",
     "output_type": "stream",
     "text": [
      "         output\n",
      "0            ``\n",
      "1         Hello\n",
      "2         there\n",
      "3             ,\n",
      "4           how\n",
      "5           are\n",
      "6           you\n",
      "7             ?\n",
      "8       Weather\n",
      "9            is\n",
      "10      awesome\n",
      "11            .\n",
      "12          Its\n",
      "13      raining\n",
      "14         here\n",
      "15          now\n",
      "16            .\n",
      "17           ''\n",
      "18           ``\n",
      "19        Hello\n",
      "20          Mr.\n",
      "21         Raja\n",
      "22            ,\n",
      "23          how\n",
      "24          are\n",
      "25          you\n",
      "26            ?\n",
      "27      Weather\n",
      "28           is\n",
      "29      awesome\n",
      "..          ...\n",
      "71           ''\n",
      "72           ``\n",
      "73           AI\n",
      "74           is\n",
      "75       making\n",
      "76   difference\n",
      "77           in\n",
      "78         this\n",
      "79        world\n",
      "80          now\n",
      "81            .\n",
      "82           It\n",
      "83        would\n",
      "84           be\n",
      "85      helpful\n",
      "86          for\n",
      "87   betterment\n",
      "88           of\n",
      "89        human\n",
      "90         life\n",
      "91            .\n",
      "92           We\n",
      "93         need\n",
      "94           to\n",
      "95         make\n",
      "96    advantage\n",
      "97           of\n",
      "98         that\n",
      "99            .\n",
      "100          ''\n",
      "\n",
      "[101 rows x 1 columns]\n"
     ]
    }
   ],
   "source": [
    "print(out_df)"
   ]
  },
  {
   "cell_type": "code",
   "execution_count": 6,
   "metadata": {},
   "outputs": [],
   "source": [
    "out_df.to_csv(r\"C:\\Users\\CG-DTE\\Downloads\\data_out2.csv\")\n",
    "df_out = pd.read_csv(r\"C:\\Users\\CG-DTE\\Downloads\\data_out2.csv\")"
   ]
  },
  {
   "cell_type": "code",
   "execution_count": 7,
   "metadata": {},
   "outputs": [
    {
     "name": "stdout",
     "output_type": "stream",
     "text": [
      "     Unnamed: 0      output\n",
      "0             0          ``\n",
      "1             1       Hello\n",
      "2             2       there\n",
      "3             3           ,\n",
      "4             4         how\n",
      "5             5         are\n",
      "6             6         you\n",
      "7             7           ?\n",
      "8             8     Weather\n",
      "9             9          is\n",
      "10           10     awesome\n",
      "11           11           .\n",
      "12           12         Its\n",
      "13           13     raining\n",
      "14           14        here\n",
      "15           15         now\n",
      "16           16           .\n",
      "17           17          ''\n",
      "18           18          ``\n",
      "19           19       Hello\n",
      "20           20         Mr.\n",
      "21           21        Raja\n",
      "22           22           ,\n",
      "23           23         how\n",
      "24           24         are\n",
      "25           25         you\n",
      "26           26           ?\n",
      "27           27     Weather\n",
      "28           28          is\n",
      "29           29     awesome\n",
      "..          ...         ...\n",
      "71           71          ''\n",
      "72           72          ``\n",
      "73           73          AI\n",
      "74           74          is\n",
      "75           75      making\n",
      "76           76  difference\n",
      "77           77          in\n",
      "78           78        this\n",
      "79           79       world\n",
      "80           80         now\n",
      "81           81           .\n",
      "82           82          It\n",
      "83           83       would\n",
      "84           84          be\n",
      "85           85     helpful\n",
      "86           86         for\n",
      "87           87  betterment\n",
      "88           88          of\n",
      "89           89       human\n",
      "90           90        life\n",
      "91           91           .\n",
      "92           92          We\n",
      "93           93        need\n",
      "94           94          to\n",
      "95           95        make\n",
      "96           96   advantage\n",
      "97           97          of\n",
      "98           98        that\n",
      "99           99           .\n",
      "100         100          ''\n",
      "\n",
      "[101 rows x 2 columns]\n"
     ]
    }
   ],
   "source": [
    "print(df_out)"
   ]
  },
  {
   "cell_type": "code",
   "execution_count": null,
   "metadata": {},
   "outputs": [],
   "source": []
  }
 ],
 "metadata": {
  "kernelspec": {
   "display_name": "Python 3",
   "language": "python",
   "name": "python3"
  },
  "language_info": {
   "codemirror_mode": {
    "name": "ipython",
    "version": 3
   },
   "file_extension": ".py",
   "mimetype": "text/x-python",
   "name": "python",
   "nbconvert_exporter": "python",
   "pygments_lexer": "ipython3",
   "version": "3.7.1"
  }
 },
 "nbformat": 4,
 "nbformat_minor": 2
}
