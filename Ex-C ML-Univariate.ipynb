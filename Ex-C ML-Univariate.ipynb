{
 "cells": [
  {
   "cell_type": "code",
   "execution_count": 15,
   "metadata": {},
   "outputs": [],
   "source": [
    "import numpy as np\n",
    "import pandas as pd\n",
    "from sklearn import linear_model\n",
    "from sklearn.model_selection import train_test_split"
   ]
  },
  {
   "cell_type": "code",
   "execution_count": 16,
   "metadata": {},
   "outputs": [],
   "source": [
    "carmpg = pd.read_excel(r\"C:\\Users\\CG-DTE\\Desktop\\Copy of auto.xls\")"
   ]
  },
  {
   "cell_type": "code",
   "execution_count": 17,
   "metadata": {},
   "outputs": [
    {
     "data": {
      "text/html": [
       "<div>\n",
       "<style scoped>\n",
       "    .dataframe tbody tr th:only-of-type {\n",
       "        vertical-align: middle;\n",
       "    }\n",
       "\n",
       "    .dataframe tbody tr th {\n",
       "        vertical-align: top;\n",
       "    }\n",
       "\n",
       "    .dataframe thead th {\n",
       "        text-align: right;\n",
       "    }\n",
       "</style>\n",
       "<table border=\"1\" class=\"dataframe\">\n",
       "  <thead>\n",
       "    <tr style=\"text-align: right;\">\n",
       "      <th></th>\n",
       "      <th>mpg</th>\n",
       "      <th>cylinder</th>\n",
       "      <th>displacement</th>\n",
       "      <th>horsepower</th>\n",
       "      <th>weight</th>\n",
       "      <th>acceleration</th>\n",
       "      <th>model year</th>\n",
       "      <th>origin</th>\n",
       "      <th>car name</th>\n",
       "    </tr>\n",
       "  </thead>\n",
       "  <tbody>\n",
       "    <tr>\n",
       "      <th>0</th>\n",
       "      <td>18.0</td>\n",
       "      <td>8</td>\n",
       "      <td>307.0</td>\n",
       "      <td>130</td>\n",
       "      <td>3504</td>\n",
       "      <td>12.0</td>\n",
       "      <td>70</td>\n",
       "      <td>1</td>\n",
       "      <td>chevrolet chevelle malibu</td>\n",
       "    </tr>\n",
       "    <tr>\n",
       "      <th>1</th>\n",
       "      <td>15.0</td>\n",
       "      <td>8</td>\n",
       "      <td>350.0</td>\n",
       "      <td>165</td>\n",
       "      <td>3693</td>\n",
       "      <td>11.5</td>\n",
       "      <td>70</td>\n",
       "      <td>1</td>\n",
       "      <td>buick skylark 320</td>\n",
       "    </tr>\n",
       "    <tr>\n",
       "      <th>2</th>\n",
       "      <td>18.0</td>\n",
       "      <td>8</td>\n",
       "      <td>318.0</td>\n",
       "      <td>150</td>\n",
       "      <td>3436</td>\n",
       "      <td>11.0</td>\n",
       "      <td>70</td>\n",
       "      <td>1</td>\n",
       "      <td>plymouth satellite</td>\n",
       "    </tr>\n",
       "    <tr>\n",
       "      <th>3</th>\n",
       "      <td>16.0</td>\n",
       "      <td>8</td>\n",
       "      <td>304.0</td>\n",
       "      <td>150</td>\n",
       "      <td>3433</td>\n",
       "      <td>12.0</td>\n",
       "      <td>70</td>\n",
       "      <td>1</td>\n",
       "      <td>amc rebel sst</td>\n",
       "    </tr>\n",
       "    <tr>\n",
       "      <th>4</th>\n",
       "      <td>17.0</td>\n",
       "      <td>8</td>\n",
       "      <td>302.0</td>\n",
       "      <td>140</td>\n",
       "      <td>3449</td>\n",
       "      <td>10.5</td>\n",
       "      <td>70</td>\n",
       "      <td>1</td>\n",
       "      <td>ford torino</td>\n",
       "    </tr>\n",
       "  </tbody>\n",
       "</table>\n",
       "</div>"
      ],
      "text/plain": [
       "    mpg  cylinder  displacement horsepower  weight  acceleration  model year  \\\n",
       "0  18.0         8         307.0        130    3504          12.0          70   \n",
       "1  15.0         8         350.0        165    3693          11.5          70   \n",
       "2  18.0         8         318.0        150    3436          11.0          70   \n",
       "3  16.0         8         304.0        150    3433          12.0          70   \n",
       "4  17.0         8         302.0        140    3449          10.5          70   \n",
       "\n",
       "   origin                   car name  \n",
       "0       1  chevrolet chevelle malibu  \n",
       "1       1          buick skylark 320  \n",
       "2       1         plymouth satellite  \n",
       "3       1              amc rebel sst  \n",
       "4       1                ford torino  "
      ]
     },
     "execution_count": 17,
     "metadata": {},
     "output_type": "execute_result"
    }
   ],
   "source": [
    "carmpg.head()"
   ]
  },
  {
   "cell_type": "code",
   "execution_count": 18,
   "metadata": {},
   "outputs": [],
   "source": [
    "carmodel = pd.DataFrame(carmpg, columns=['mpg','weight'])"
   ]
  },
  {
   "cell_type": "code",
   "execution_count": 19,
   "metadata": {},
   "outputs": [
    {
     "data": {
      "text/html": [
       "<div>\n",
       "<style scoped>\n",
       "    .dataframe tbody tr th:only-of-type {\n",
       "        vertical-align: middle;\n",
       "    }\n",
       "\n",
       "    .dataframe tbody tr th {\n",
       "        vertical-align: top;\n",
       "    }\n",
       "\n",
       "    .dataframe thead th {\n",
       "        text-align: right;\n",
       "    }\n",
       "</style>\n",
       "<table border=\"1\" class=\"dataframe\">\n",
       "  <thead>\n",
       "    <tr style=\"text-align: right;\">\n",
       "      <th></th>\n",
       "      <th>mpg</th>\n",
       "      <th>weight</th>\n",
       "    </tr>\n",
       "  </thead>\n",
       "  <tbody>\n",
       "    <tr>\n",
       "      <th>0</th>\n",
       "      <td>18.0</td>\n",
       "      <td>3504</td>\n",
       "    </tr>\n",
       "    <tr>\n",
       "      <th>1</th>\n",
       "      <td>15.0</td>\n",
       "      <td>3693</td>\n",
       "    </tr>\n",
       "    <tr>\n",
       "      <th>2</th>\n",
       "      <td>18.0</td>\n",
       "      <td>3436</td>\n",
       "    </tr>\n",
       "    <tr>\n",
       "      <th>3</th>\n",
       "      <td>16.0</td>\n",
       "      <td>3433</td>\n",
       "    </tr>\n",
       "    <tr>\n",
       "      <th>4</th>\n",
       "      <td>17.0</td>\n",
       "      <td>3449</td>\n",
       "    </tr>\n",
       "  </tbody>\n",
       "</table>\n",
       "</div>"
      ],
      "text/plain": [
       "    mpg  weight\n",
       "0  18.0    3504\n",
       "1  15.0    3693\n",
       "2  18.0    3436\n",
       "3  16.0    3433\n",
       "4  17.0    3449"
      ]
     },
     "execution_count": 19,
     "metadata": {},
     "output_type": "execute_result"
    }
   ],
   "source": [
    "carmodel.head()"
   ]
  },
  {
   "cell_type": "code",
   "execution_count": 21,
   "metadata": {},
   "outputs": [],
   "source": [
    "x_train,x_test,y_train,y_test=train_test_split(carmodel.weight,carmodel.mpg,test_size=0.20)"
   ]
  },
  {
   "cell_type": "code",
   "execution_count": 22,
   "metadata": {},
   "outputs": [],
   "source": [
    "x_trn = np.array(x_train)\n",
    "x_trn=x_trn.reshape(len(x_trn),1)\n",
    "y_trn = np.array(y_train)\n",
    "y_trn=y_trn.reshape(len(y_trn),1)"
   ]
  },
  {
   "cell_type": "code",
   "execution_count": 23,
   "metadata": {},
   "outputs": [],
   "source": [
    "reg =linear_model.LinearRegression()"
   ]
  },
  {
   "cell_type": "code",
   "execution_count": 24,
   "metadata": {},
   "outputs": [
    {
     "data": {
      "text/plain": [
       "LinearRegression(copy_X=True, fit_intercept=True, n_jobs=None,\n",
       "         normalize=False)"
      ]
     },
     "execution_count": 24,
     "metadata": {},
     "output_type": "execute_result"
    }
   ],
   "source": [
    "reg.fit(x_trn,y_trn)"
   ]
  },
  {
   "cell_type": "code",
   "execution_count": 25,
   "metadata": {},
   "outputs": [
    {
     "name": "stdout",
     "output_type": "stream",
     "text": [
      "coefficient  [[-0.0076565]]\n"
     ]
    }
   ],
   "source": [
    "print('coefficient ',reg.coef_)"
   ]
  },
  {
   "cell_type": "code",
   "execution_count": 26,
   "metadata": {},
   "outputs": [
    {
     "name": "stdout",
     "output_type": "stream",
     "text": [
      "intercept  [46.1247076]\n"
     ]
    }
   ],
   "source": [
    "print('intercept ',reg.intercept_)"
   ]
  },
  {
   "cell_type": "code",
   "execution_count": 27,
   "metadata": {},
   "outputs": [],
   "source": [
    "x_tst=np.array(x_test)\n",
    "y_tst=np.array(y_test)\n",
    "x_tst=x_tst.reshape(len(x_tst),1)\n",
    "y_tst=y_tst.reshape(len(y_tst),1)"
   ]
  },
  {
   "cell_type": "code",
   "execution_count": 28,
   "metadata": {},
   "outputs": [],
   "source": [
    "y_pred = reg.predict(x_tst)"
   ]
  },
  {
   "cell_type": "code",
   "execution_count": 29,
   "metadata": {},
   "outputs": [
    {
     "data": {
      "text/plain": [
       "array([[30.62030331],\n",
       "       [30.96484562],\n",
       "       [27.35863603],\n",
       "       [16.72376316],\n",
       "       [26.21781814],\n",
       "       [13.2400575 ],\n",
       "       [15.08527303],\n",
       "       [11.65516284],\n",
       "       [ 8.18677018],\n",
       "       [14.73307421],\n",
       "       [28.51476692],\n",
       "       [22.69583   ],\n",
       "       [13.10989707],\n",
       "       [11.99970516],\n",
       "       [21.27937825],\n",
       "       [19.90120898],\n",
       "       [29.5024549 ],\n",
       "       [11.68578882],\n",
       "       [18.01005448],\n",
       "       [31.0031281 ],\n",
       "       [31.23282298],\n",
       "       [19.97777394],\n",
       "       [21.96846288],\n",
       "       [10.65216187],\n",
       "       [15.95811356],\n",
       "       [13.8142947 ],\n",
       "       [19.93949146],\n",
       "       [19.17384186],\n",
       "       [29.02009565],\n",
       "       [17.37456531],\n",
       "       [ 8.21739616],\n",
       "       [29.05072164],\n",
       "       [32.64927473],\n",
       "       [31.07969306],\n",
       "       [20.63623259],\n",
       "       [ 9.89416877],\n",
       "       [14.88620413],\n",
       "       [28.79040077],\n",
       "       [27.86396476],\n",
       "       [31.0031281 ],\n",
       "       [25.45216854],\n",
       "       [26.89924628],\n",
       "       [28.24678956],\n",
       "       [28.28507204],\n",
       "       [18.33162731],\n",
       "       [26.52407797],\n",
       "       [26.25610062],\n",
       "       [32.1516025 ],\n",
       "       [21.53969911],\n",
       "       [18.17084089],\n",
       "       [16.41750332],\n",
       "       [29.85465371],\n",
       "       [14.31962343],\n",
       "       [25.95749727],\n",
       "       [25.29903862],\n",
       "       [23.99743431],\n",
       "       [22.22878375],\n",
       "       [19.0972769 ],\n",
       "       [28.9282177 ],\n",
       "       [18.40819227],\n",
       "       [21.70048553],\n",
       "       [16.87689308],\n",
       "       [29.13494309],\n",
       "       [29.89293619],\n",
       "       [12.57394235],\n",
       "       [14.90917362],\n",
       "       [18.76039108],\n",
       "       [31.9601901 ],\n",
       "       [23.13225027],\n",
       "       [21.9301804 ],\n",
       "       [22.61926504],\n",
       "       [13.68413427],\n",
       "       [27.51942245],\n",
       "       [21.02671388],\n",
       "       [31.04141058],\n",
       "       [30.78874622],\n",
       "       [20.36059873],\n",
       "       [30.42123441],\n",
       "       [21.12624833],\n",
       "       [22.00674536]])"
      ]
     },
     "execution_count": 29,
     "metadata": {},
     "output_type": "execute_result"
    }
   ],
   "source": [
    "y_pred"
   ]
  },
  {
   "cell_type": "code",
   "execution_count": 30,
   "metadata": {},
   "outputs": [
    {
     "data": {
      "text/plain": [
       "array([[37. ],\n",
       "       [36. ],\n",
       "       [26. ],\n",
       "       [17. ],\n",
       "       [21.5],\n",
       "       [15. ],\n",
       "       [15.5],\n",
       "       [13. ],\n",
       "       [12. ],\n",
       "       [13. ],\n",
       "       [26. ],\n",
       "       [20.2],\n",
       "       [14. ],\n",
       "       [14. ],\n",
       "       [21.5],\n",
       "       [19.2],\n",
       "       [29. ],\n",
       "       [16. ],\n",
       "       [17. ],\n",
       "       [34.1],\n",
       "       [33.5],\n",
       "       [22.4],\n",
       "       [20.5],\n",
       "       [11. ],\n",
       "       [18.5],\n",
       "       [16. ],\n",
       "       [23.9],\n",
       "       [17.5],\n",
       "       [26. ],\n",
       "       [13. ],\n",
       "       [12. ],\n",
       "       [30.9],\n",
       "       [35.1],\n",
       "       [32. ],\n",
       "       [17. ],\n",
       "       [ 9. ],\n",
       "       [17.5],\n",
       "       [28. ],\n",
       "       [30. ],\n",
       "       [37. ],\n",
       "       [26.8],\n",
       "       [22. ],\n",
       "       [43.4],\n",
       "       [19. ],\n",
       "       [19. ],\n",
       "       [27.5],\n",
       "       [28.8],\n",
       "       [29.5],\n",
       "       [19. ],\n",
       "       [20. ],\n",
       "       [17.5],\n",
       "       [36. ],\n",
       "       [14. ],\n",
       "       [19. ],\n",
       "       [31. ],\n",
       "       [22.3],\n",
       "       [18. ],\n",
       "       [25.4],\n",
       "       [26. ],\n",
       "       [18.6],\n",
       "       [27.2],\n",
       "       [16.5],\n",
       "       [29. ],\n",
       "       [32.1],\n",
       "       [11. ],\n",
       "       [14. ],\n",
       "       [18. ],\n",
       "       [44.6],\n",
       "       [24.3],\n",
       "       [30.7],\n",
       "       [20.8],\n",
       "       [14. ],\n",
       "       [24. ],\n",
       "       [16. ],\n",
       "       [31. ],\n",
       "       [32. ],\n",
       "       [19.9],\n",
       "       [30.5],\n",
       "       [20.2],\n",
       "       [20. ]])"
      ]
     },
     "execution_count": 30,
     "metadata": {},
     "output_type": "execute_result"
    }
   ],
   "source": [
    "y_tst"
   ]
  },
  {
   "cell_type": "code",
   "execution_count": 31,
   "metadata": {},
   "outputs": [
    {
     "data": {
      "text/plain": [
       "array([[2025],\n",
       "       [1980],\n",
       "       [2451],\n",
       "       [3840],\n",
       "       [2600],\n",
       "       [4295],\n",
       "       [4054],\n",
       "       [4502],\n",
       "       [4955],\n",
       "       [4100],\n",
       "       [2300],\n",
       "       [3060],\n",
       "       [4312],\n",
       "       [4457],\n",
       "       [3245],\n",
       "       [3425],\n",
       "       [2171],\n",
       "       [4498],\n",
       "       [3672],\n",
       "       [1975],\n",
       "       [1945],\n",
       "       [3415],\n",
       "       [3155],\n",
       "       [4633],\n",
       "       [3940],\n",
       "       [4220],\n",
       "       [3420],\n",
       "       [3520],\n",
       "       [2234],\n",
       "       [3755],\n",
       "       [4951],\n",
       "       [2230],\n",
       "       [1760],\n",
       "       [1965],\n",
       "       [3329],\n",
       "       [4732],\n",
       "       [4080],\n",
       "       [2264],\n",
       "       [2385],\n",
       "       [1975],\n",
       "       [2700],\n",
       "       [2511],\n",
       "       [2335],\n",
       "       [2330],\n",
       "       [3630],\n",
       "       [2560],\n",
       "       [2595],\n",
       "       [1825],\n",
       "       [3211],\n",
       "       [3651],\n",
       "       [3880],\n",
       "       [2125],\n",
       "       [4154],\n",
       "       [2634],\n",
       "       [2720],\n",
       "       [2890],\n",
       "       [3121],\n",
       "       [3530],\n",
       "       [2246],\n",
       "       [3620],\n",
       "       [3190],\n",
       "       [3820],\n",
       "       [2219],\n",
       "       [2120],\n",
       "       [4382],\n",
       "       [4077],\n",
       "       [3574],\n",
       "       [1850],\n",
       "       [3003],\n",
       "       [3160],\n",
       "       [3070],\n",
       "       [4237],\n",
       "       [2430],\n",
       "       [3278],\n",
       "       [1970],\n",
       "       [2003],\n",
       "       [3365],\n",
       "       [2051],\n",
       "       [3265],\n",
       "       [3150]], dtype=int64)"
      ]
     },
     "execution_count": 31,
     "metadata": {},
     "output_type": "execute_result"
    }
   ],
   "source": [
    "x_tst"
   ]
  },
  {
   "cell_type": "code",
   "execution_count": 38,
   "metadata": {},
   "outputs": [
    {
     "data": {
      "text/plain": [
       "0.7617008441067231"
      ]
     },
     "execution_count": 38,
     "metadata": {},
     "output_type": "execute_result"
    }
   ],
   "source": [
    "reg.score(x_tst,y_tst)"
   ]
  },
  {
   "cell_type": "code",
   "execution_count": 40,
   "metadata": {},
   "outputs": [],
   "source": [
    "import matplotlib.pyplot as plt\n",
    "%matplotlib inline"
   ]
  },
  {
   "cell_type": "code",
   "execution_count": 41,
   "metadata": {},
   "outputs": [
    {
     "data": {
      "text/plain": [
       "[<matplotlib.lines.Line2D at 0x16ba2b90978>]"
      ]
     },
     "execution_count": 41,
     "metadata": {},
     "output_type": "execute_result"
    },
    {
     "data": {
      "image/png": "[encoded data removed]",
      "text/plain": [
       "<Figure size 432x288 with 1 Axes>"
      ]
     },
     "metadata": {
      "needs_background": "light"
     },
     "output_type": "display_data"
    }
   ],
   "source": [
    "plt.scatter(x_test,y_test,color='blue')\n",
    "plt.plot(x_test,y_pred,color='black',linewidth=6)"
   ]
  },
  {
   "cell_type": "code",
   "execution_count": null,
   "metadata": {},
   "outputs": [],
   "source": []
  }
 ],
 "metadata": {
  "kernelspec": {
   "display_name": "Python 3",
   "language": "python",
   "name": "python3"
  },
  "language_info": {
   "codemirror_mode": {
    "name": "ipython",
    "version": 3
   },
   "file_extension": ".py",
   "mimetype": "text/x-python",
   "name": "python",
   "nbconvert_exporter": "python",
   "pygments_lexer": "ipython3",
   "version": "3.7.1"
  }
 },
 "nbformat": 4,
 "nbformat_minor": 2
}
